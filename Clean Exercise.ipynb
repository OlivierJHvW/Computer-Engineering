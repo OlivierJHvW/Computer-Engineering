{
 "cells": [
  {
   "cell_type": "markdown",
   "id": "f470ed9f-6ec7-4919-a398-4a4f89aa25a2",
   "metadata": {
    "tags": []
   },
   "source": [
    "# The Orchard\n",
    "\n",
    "### Project Assignment EPA1333 2022-2023\n",
    "\n",
    "---"
   ]
  },
  {
   "cell_type": "markdown",
   "id": "3526f270-e968-4050-9f5f-b97ed027d564",
   "metadata": {},
   "source": [
    "## ``Quick Overview``\n",
    "\n",
    "This assignment is made by **Julien Hermans**, **Laurens van Veen** and **Olivier van Warmerdam**.\n",
    "\n",
    "#### ``Process``\n",
    "1. Firstly we did some 'research' on L-systems (wikipedia) made the code for creating such systems based on a few examples. This led to a general syntax for the actions.\n",
    "2. Secondly, we created classes that integrated the L-systems to create the trees.\n",
    "3. Then we added the fruits.\n",
    "\n",
    "---"
   ]
  },
  {
   "cell_type": "markdown",
   "id": "325e1535-5034-40be-a4c3-aa79d9017daa",
   "metadata": {},
   "source": [
    "## Creating the L-systems"
   ]
  },
  {
   "cell_type": "markdown",
   "id": "97d93cc2-1d7c-440b-9fde-80ccf9ef2cc1",
   "metadata": {},
   "source": [
    "Based on examples from Wikipedia \\[1\\], we came up with a system for creating L-systems.\n",
    "\n",
    "\\[1\\] https://en.wikipedia.org/wiki/L-system"
   ]
  },
  {
   "cell_type": "markdown",
   "id": "6663fafd-07e1-42e1-a27a-fad1d3a11538",
   "metadata": {},
   "source": [
    "### Example 1: Fractal Binary tree"
   ]
  },
  {
   "cell_type": "markdown",
   "id": "57ed524e-fb3c-4f78-bcc5-4fd3f044faee",
   "metadata": {},
   "source": [
    "The code beneath will write an L system with the following rules:\n",
    "\n",
    "| Parameters | Value |\n",
    "| --- | --- |\n",
    "| Variables | 0, 1 |\n",
    "| Constants | \"\\[\", \"\\]\" |\n",
    "| Axiom | 0 |\n",
    "| Rules | (1 → 11), (0 → 1\\[0\\]0) |\n",
    "\n",
    "> The shape is built by recursively feeding the axiom through the production rules. Each character of the input string is checked against the rule list to determine which character or string to replace it with in the output string. In this example, a '1' in the input string becomes '11' in the output string, while '\\[' remains the same. \n",
    "\n",
    "\\[1\\] We can see that this string quickly grows in size and complexity. This string can be drawn as an image by using turtle graphics, where each symbol is assigned a graphical operation for the turtle to perform. For example, in the sample above, the turtle may be given the following instructions:\n",
    "\n",
    "* 0: draw a line segment ending in a leaf\n",
    "* 1: draw a line segment\n",
    "* \\[ : push position and angle, turn left 45 degrees\n",
    "* \\] : pop position and angle, turn right 45 degrees\n",
    "\n",
    "\\[1\\] https://en.wikipedia.org/wiki/L-system"
   ]
  },
  {
   "cell_type": "code",
   "execution_count": 7,
   "id": "4db579ac-1967-430c-b8aa-4413e872b1f5",
   "metadata": {},
   "outputs": [],
   "source": [
    "# This function can create an L-system given the starting string (axiom), the rules in a dictionary and the total rounds\n",
    "def create_L_system(axiom, rules, total_rounds):\n",
    "    results = [axiom]   # The result of round N can be printed with round[N]\n",
    "\n",
    "    for previous_round in range(total_rounds):\n",
    "        string = ''\n",
    "        for symbol in results[previous_round]:\n",
    "            try:\n",
    "                string += rules[symbol]   # Implement the rule if it exists\n",
    "            except:\n",
    "                string += symbol          # Else treat the symbol as a constant\n",
    "        results += [string]\n",
    "\n",
    "    return results"
   ]
  },
  {
   "cell_type": "code",
   "execution_count": 8,
   "id": "e7666f68-869b-47c6-8dde-978b318ce8af",
   "metadata": {},
   "outputs": [
    {
     "data": {
      "text/plain": [
       "['0',\n",
       " '1+[[0]-0]-1[-10]+0',\n",
       " '11+[[1+[[0]-0]-1[-10]+0]-1+[[0]-0]-1[-10]+0]-11[-111+[[0]-0]-1[-10]+0]+1+[[0]-0]-1[-10]+0',\n",
       " '1111+[[11+[[1+[[0]-0]-1[-10]+0]-1+[[0]-0]-1[-10]+0]-11[-111+[[0]-0]-1[-10]+0]+1+[[0]-0]-1[-10]+0]-11+[[1+[[0]-0]-1[-10]+0]-1+[[0]-0]-1[-10]+0]-11[-111+[[0]-0]-1[-10]+0]+1+[[0]-0]-1[-10]+0]-1111[-111111+[[1+[[0]-0]-1[-10]+0]-1+[[0]-0]-1[-10]+0]-11[-111+[[0]-0]-1[-10]+0]+1+[[0]-0]-1[-10]+0]+11+[[1+[[0]-0]-1[-10]+0]-1+[[0]-0]-1[-10]+0]-11[-111+[[0]-0]-1[-10]+0]+1+[[0]-0]-1[-10]+0',\n",
       " '11111111+[[1111+[[11+[[1+[[0]-0]-1[-10]+0]-1+[[0]-0]-1[-10]+0]-11[-111+[[0]-0]-1[-10]+0]+1+[[0]-0]-1[-10]+0]-11+[[1+[[0]-0]-1[-10]+0]-1+[[0]-0]-1[-10]+0]-11[-111+[[0]-0]-1[-10]+0]+1+[[0]-0]-1[-10]+0]-1111[-111111+[[1+[[0]-0]-1[-10]+0]-1+[[0]-0]-1[-10]+0]-11[-111+[[0]-0]-1[-10]+0]+1+[[0]-0]-1[-10]+0]+11+[[1+[[0]-0]-1[-10]+0]-1+[[0]-0]-1[-10]+0]-11[-111+[[0]-0]-1[-10]+0]+1+[[0]-0]-1[-10]+0]-1111+[[11+[[1+[[0]-0]-1[-10]+0]-1+[[0]-0]-1[-10]+0]-11[-111+[[0]-0]-1[-10]+0]+1+[[0]-0]-1[-10]+0]-11+[[1+[[0]-0]-1[-10]+0]-1+[[0]-0]-1[-10]+0]-11[-111+[[0]-0]-1[-10]+0]+1+[[0]-0]-1[-10]+0]-1111[-111111+[[1+[[0]-0]-1[-10]+0]-1+[[0]-0]-1[-10]+0]-11[-111+[[0]-0]-1[-10]+0]+1+[[0]-0]-1[-10]+0]+11+[[1+[[0]-0]-1[-10]+0]-1+[[0]-0]-1[-10]+0]-11[-111+[[0]-0]-1[-10]+0]+1+[[0]-0]-1[-10]+0]-11111111[-111111111111+[[11+[[1+[[0]-0]-1[-10]+0]-1+[[0]-0]-1[-10]+0]-11[-111+[[0]-0]-1[-10]+0]+1+[[0]-0]-1[-10]+0]-11+[[1+[[0]-0]-1[-10]+0]-1+[[0]-0]-1[-10]+0]-11[-111+[[0]-0]-1[-10]+0]+1+[[0]-0]-1[-10]+0]-1111[-111111+[[1+[[0]-0]-1[-10]+0]-1+[[0]-0]-1[-10]+0]-11[-111+[[0]-0]-1[-10]+0]+1+[[0]-0]-1[-10]+0]+11+[[1+[[0]-0]-1[-10]+0]-1+[[0]-0]-1[-10]+0]-11[-111+[[0]-0]-1[-10]+0]+1+[[0]-0]-1[-10]+0]+1111+[[11+[[1+[[0]-0]-1[-10]+0]-1+[[0]-0]-1[-10]+0]-11[-111+[[0]-0]-1[-10]+0]+1+[[0]-0]-1[-10]+0]-11+[[1+[[0]-0]-1[-10]+0]-1+[[0]-0]-1[-10]+0]-11[-111+[[0]-0]-1[-10]+0]+1+[[0]-0]-1[-10]+0]-1111[-111111+[[1+[[0]-0]-1[-10]+0]-1+[[0]-0]-1[-10]+0]-11[-111+[[0]-0]-1[-10]+0]+1+[[0]-0]-1[-10]+0]+11+[[1+[[0]-0]-1[-10]+0]-1+[[0]-0]-1[-10]+0]-11[-111+[[0]-0]-1[-10]+0]+1+[[0]-0]-1[-10]+0']"
      ]
     },
     "execution_count": 8,
     "metadata": {},
     "output_type": "execute_result"
    }
   ],
   "source": [
    "rules = {'0': '1+[[0]-0]-1[-10]+0',\n",
    "         '1': '11'}\n",
    "\n",
    "results2 = create_L_system('0', rules, 4)\n",
    "results2"
   ]
  },
  {
   "cell_type": "code",
   "execution_count": null,
   "id": "6b5322d1-525a-4d87-93b3-39f0322d7722",
   "metadata": {},
   "outputs": [],
   "source": []
  }
 ],
 "metadata": {
  "kernelspec": {
   "display_name": "Python 3 (ipykernel)",
   "language": "python",
   "name": "python3"
  },
  "language_info": {
   "codemirror_mode": {
    "name": "ipython",
    "version": 3
   },
   "file_extension": ".py",
   "mimetype": "text/x-python",
   "name": "python",
   "nbconvert_exporter": "python",
   "pygments_lexer": "ipython3",
   "version": "3.9.7"
  }
 },
 "nbformat": 4,
 "nbformat_minor": 5
}
