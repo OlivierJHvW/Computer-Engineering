{
 "cells": [
  {
   "cell_type": "markdown",
   "id": "82586445-cda1-4853-aa1d-fdc286681956",
   "metadata": {},
   "source": [
    "test markdown"
   ]
  },
  {
   "cell_type": "code",
   "execution_count": 1,
   "id": "1f5e23a9-d633-4ad5-9013-d5206917bb41",
   "metadata": {},
   "outputs": [
    {
     "name": "stdout",
     "output_type": "stream",
     "text": [
      "20\n"
     ]
    }
   ],
   "source": [
    "test = 5\n",
    "print(test*4)"
   ]
  },
  {
   "cell_type": "code",
   "execution_count": null,
   "id": "efbb99f7-702b-4a84-b4bd-6b697d91a6fb",
   "metadata": {},
   "outputs": [],
   "source": []
  }
 ],
 "metadata": {
  "kernelspec": {
   "display_name": "Python 3 (ipykernel)",
   "language": "python",
   "name": "python3"
  },
  "language_info": {
   "codemirror_mode": {
    "name": "ipython",
    "version": 3
   },
   "file_extension": ".py",
   "mimetype": "text/x-python",
   "name": "python",
   "nbconvert_exporter": "python",
   "pygments_lexer": "ipython3",
   "version": "3.9.7"
  }
 },
 "nbformat": 4,
 "nbformat_minor": 5
}
