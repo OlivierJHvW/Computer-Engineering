{
 "cells": [
  {
   "cell_type": "markdown",
   "id": "f470ed9f-6ec7-4919-a398-4a4f89aa25a2",
   "metadata": {
    "tags": []
   },
   "source": [
    "# The Orchard\n",
    "\n",
    "### Project Assignment EPA1333 2022-2023\n",
    "\n",
    "---"
   ]
  },
  {
   "cell_type": "markdown",
   "id": "3526f270-e968-4050-9f5f-b97ed027d564",
   "metadata": {},
   "source": [
    "## ``Quick Overview``\n",
    "\n",
    "This assignment is made by **Julien Hermans**, **Laurens van Veen** and **Olivier van Warmerdam**.\n",
    "\n",
    "#### ``Process``\n",
    "1. Firstly we did some 'research' on L-systems (wikipedia) made the code for creating such systems based on a few examples. This led to a general syntax for the actions.\n",
    "2. Secondly, we created classes that integrated the L-systems to create the trees.\n",
    "3. Then we added the fruits.\n",
    "\n",
    "---"
   ]
  },
  {
   "cell_type": "markdown",
   "id": "325e1535-5034-40be-a4c3-aa79d9017daa",
   "metadata": {},
   "source": [
    "## Creating the L-systems using turtles"
   ]
  },
  {
   "cell_type": "markdown",
   "id": "97d93cc2-1d7c-440b-9fde-80ccf9ef2cc1",
   "metadata": {},
   "source": [
    "Based on examples from Wikipedia \\[1\\], we came up with a system for creating L-systems.\n",
    "\n",
    "\\[1\\] https://en.wikipedia.org/wiki/L-system"
   ]
  },
  {
   "cell_type": "code",
   "execution_count": 1,
   "id": "45efbedf-5f68-4dec-85fb-b9aafff636a2",
   "metadata": {},
   "outputs": [],
   "source": [
    "# This function can create an L-system given the starting string (axiom), the rules in a dictionary and the total rounds\n",
    "def create_L_system(axiom, rules, total_rounds):\n",
    "    results = [axiom]   # The result of round N can be printed with round[N]\n",
    "\n",
    "    for previous_round in range(total_rounds):\n",
    "        string = ''\n",
    "        for symbol in results[previous_round]:\n",
    "            try:\n",
    "                string += rules[symbol]   # Implement the rule if it exists\n",
    "            except:\n",
    "                string += symbol          # Else treat the symbol as a constant\n",
    "        results += [string]\n",
    "\n",
    "    return results"
   ]
  },
  {
   "cell_type": "markdown",
   "id": "4e989d54-2b1c-4607-979c-47f58fc6df06",
   "metadata": {},
   "source": [
    "---\n",
    "\n",
    "### Example 1: Algae (Lindenmayer's original L-system)"
   ]
  },
  {
   "cell_type": "markdown",
   "id": "c6f80491-cba2-4ec8-9c4d-33f06f445bb6",
   "metadata": {},
   "source": [
    "The code beneath will write an L system with the following rules:\n",
    "\n",
    "| Parameters | Value |\n",
    "| --- | --- |\n",
    "| Variables | A, B |\n",
    "| Constants | None |\n",
    "| Axiom | A |\n",
    "| Rules | (A → AB), (B → S) |\n",
    "\n",
    "which produces:<br>\n",
    "&emsp;n = 0 : A<br>\n",
    "&emsp;n = 1 : AB<br>\n",
    "&emsp;n = 2 : ABA<br>\n",
    "&emsp;n = 3 : ABAAB<br>\n",
    "&emsp;n = 4 : ABAABABA<br>\n",
    "&emsp;n = 5 : ABAABABAABAAB<br>\n",
    "&emsp;n = 6 : ABAABABAABAABABAABABA<br>\n",
    "&emsp;n = 7 : ABAABABAABAABABAABABAABAABABAABAAB<br>"
   ]
  },
  {
   "cell_type": "code",
   "execution_count": null,
   "id": "a07c2657-192e-4515-9614-01de9b189c19",
   "metadata": {},
   "outputs": [],
   "source": [
    "rules1 = {'A': 'AB',\n",
    "          'B': 'A'}\n",
    "axiom1 = \"A\"\n",
    "\n",
    "results1 = create_L_system(axiom1, rules1, 7)\n",
    "results1"
   ]
  },
  {
   "cell_type": "markdown",
   "id": "6663fafd-07e1-42e1-a27a-fad1d3a11538",
   "metadata": {},
   "source": [
    "---\n",
    "\n",
    "### Example 2: Fractal binary tree (basic tree example)"
   ]
  },
  {
   "cell_type": "markdown",
   "id": "57ed524e-fb3c-4f78-bcc5-4fd3f044faee",
   "metadata": {},
   "source": [
    "The code beneath will write an L system with the following rules:\n",
    "\n",
    "| Parameters | Value |\n",
    "| --- | --- |\n",
    "| Variables | 0, 1 |\n",
    "| Constants | \"\\[\", \"\\]\" |\n",
    "| Axiom | 0 |\n",
    "| Rules | (1 → 11), (0 → 1\\[0\\]0) |\n",
    "\n",
    "which produces:<br>\n",
    "$\\;\\;\\;\\;\\;\\;$axiom:&emsp;&emsp;&emsp;&emsp; n0<br>\n",
    "$\\;\\;\\;\\;\\;\\;$1st recursion:&emsp; n1\\[0\\]0<br>\n",
    "$\\;\\;\\;\\;\\;\\;$2nd recursion:&emsp;n11\\[1\\[0\\]0\\]1\\[0\\]0<br>\n",
    "$\\;\\;\\;\\;\\;\\;$3rd recursion:&emsp; n1111\\[11\\[1\\[0\\]0\\]1\\[0\\]0\\]11\\[1\\[0\\]0\\]1\\[0\\]0<br>\n",
    "$\\;\\;\\;\\;\\;\\;$…\n",
    "\n",
    "The shape is built by recursively feeding the axiom through the production rules. Each character of the input string is checked against the rule list to determine which character or string to replace it with in the output string. In this example, a '1' in the input string becomes '11' in the output string, while '\\[' remains the same. \\[1\\] \n",
    "\n",
    "We can see that this string quickly grows in size and complexity. This string can be drawn as an image by using turtle graphics, where each symbol is assigned a graphical operation for the turtle to perform. For example, in the sample above, the turtle may be given the following instructions \\[1\\]:\n",
    "\n",
    "* 0: draw a line segment ending in a leaf\n",
    "* 1: draw a line segment\n",
    "* \\[ : push position and angle, turn left 45 degrees\n",
    "* \\] : pop position and angle, turn right 45 degrees\n",
    "\n",
    "The push and pop refer to a LIFO stack (more technical grammar would have separate symbols for \"push position\" and \"turn left\"). When the turtle interpretation encounters a '\\[', the current position and angle are saved, and are then restored when the interpretation encounters a '\\]'. If multiple values have been \"pushed,\" then a \"pop\" restores the most recently saved values. \\[1\\] \n",
    "\n",
    "\\[1\\] https://en.wikipedia.org/wiki/L-system"
   ]
  },
  {
   "cell_type": "code",
   "execution_count": null,
   "id": "22b55d42-519d-4d02-9d60-670c44ad8030",
   "metadata": {},
   "outputs": [],
   "source": [
    "rules2 = {'0': '1[0]0',\n",
    "          '1': '11'}\n",
    "axiom2 = \"0\"\n",
    "\n",
    "results2 = create_L_system(axiom2, rules2, 3)\n",
    "results2"
   ]
  },
  {
   "cell_type": "markdown",
   "id": "cdc9473f-8966-4842-a71d-4e1bc672819f",
   "metadata": {},
   "source": [
    "### ``Execucion``"
   ]
  },
  {
   "cell_type": "code",
   "execution_count": null,
   "id": "4aa342cd-27ce-4635-85ee-e161da1b421e",
   "metadata": {},
   "outputs": [],
   "source": [
    "def branching(instructions, size):\n",
    "    splits = []\n",
    "    branches = 0\n",
    "    while instructions != '':\n",
    "        action = instructions[0]\n",
    "        if action == '0':\n",
    "            t.forward(size)\n",
    "            branches -= 1\n",
    "            instructions = instructions[1:]\n",
    "        if action == '1':\n",
    "            t.forward(size)\n",
    "            instructions = instructions[1:]\n",
    "        if action == '[':\n",
    "            splits = [[t.pos(), t.heading()]] + splits # Push position\n",
    "            \n",
    "            t.left(45)\n",
    "            instructions = instructions[1:]\n",
    "        if action == ']':\n",
    "            # Pop position\n",
    "            t.up()\n",
    "            t.setpos(splits[0][0])\n",
    "            t.setheading(splits[0][1])\n",
    "            t.down()\n",
    "            splits = splits[1:]\n",
    "            \n",
    "            t.right(45)\n",
    "            instructions = instructions[1:]"
   ]
  },
  {
   "cell_type": "code",
   "execution_count": null,
   "id": "cfb700e1-178b-46dc-9675-590427b2102c",
   "metadata": {},
   "outputs": [],
   "source": [
    "import turtle\n",
    "\n",
    "t = turtle.Turtle()\n",
    "t.speed('fastest')\n",
    "t.left(90)\n",
    "\n",
    "branching(results2[2], 50)"
   ]
  },
  {
   "cell_type": "markdown",
   "id": "646b1f00-d8f2-4eae-bcb5-7335401e796e",
   "metadata": {},
   "source": [
    "---\n",
    "\n",
    "### Example 3: Fractal plant (complex fractal)"
   ]
  },
  {
   "cell_type": "markdown",
   "id": "e88cedb9-d197-46b6-a961-579d03277094",
   "metadata": {},
   "source": [
    "See also: [Barnsley fern](https://en.wikipedia.org/wiki/Barnsley_fern)\n",
    "\n",
    "| Parameters | Value |\n",
    "| --- | --- |\n",
    "| Variables | X, F |\n",
    "| Constants | +, -, \"\\[\", \"\\]\" |\n",
    "| Axiom | X |\n",
    "| Rules | (X → F+\\[\\[X\\]-X\\]-F\\[-FX\\]+X), (F → FF) |\n",
    "| Angle | 25° |\n",
    "\n",
    "Here, F means \"draw forward\", − means \"turn right 25°\", and + means \"turn left 25°\". X does not correspond to any drawing action and is used to control the evolution of the curve. The square bracket \"\\[\" corresponds to saving the current values for position and angle, which are restored when the corresponding \"\\]\" is executed. ([Wikipedia, 2022](https://en.wikipedia.org/wiki/L-system))"
   ]
  },
  {
   "cell_type": "code",
   "execution_count": 10,
   "id": "e7666f68-869b-47c6-8dde-978b318ce8af",
   "metadata": {},
   "outputs": [
    {
     "data": {
      "text/plain": [
       "['X',\n",
       " 'F+[[X]-X]-F[-FX]+X',\n",
       " 'FF+[[F+[[X]-X]-F[-FX]+X]-F+[[X]-X]-F[-FX]+X]-FF[-FFF+[[X]-X]-F[-FX]+X]+F+[[X]-X]-F[-FX]+X']"
      ]
     },
     "execution_count": 10,
     "metadata": {},
     "output_type": "execute_result"
    }
   ],
   "source": [
    "rules3 = {'X': 'F+[[X]-X]-F[-FX]+X',\n",
    "         'F': 'FF'}\n",
    "axiom3 = 'X'\n",
    "\n",
    "results3 = create_L_system(axiom3, rules3, 6)\n",
    "results3[0:3]"
   ]
  },
  {
   "cell_type": "markdown",
   "id": "0107b288-0577-4d72-840e-e6c91b1a9526",
   "metadata": {},
   "source": [
    "### ``Execucion``"
   ]
  },
  {
   "cell_type": "code",
   "execution_count": null,
   "id": "6148b237-4b04-4661-b67d-46467b0d6a72",
   "metadata": {},
   "outputs": [],
   "source": [
    "def branching2(instructions, size):\n",
    "    splits = []\n",
    "    branches = 0\n",
    "    while instructions != '':\n",
    "        action = instructions[0]\n",
    "        if action == 'X':\n",
    "            instructions = instructions[1:]\n",
    "        if action == 'F':\n",
    "            t.forward(size)\n",
    "            instructions = instructions[1:]\n",
    "        if action == '[':\n",
    "            splits = [[t.pos(), t.heading()]] + splits # Push position\n",
    "            instructions = instructions[1:]\n",
    "        if action == '+':\n",
    "            t.right(25)\n",
    "            instructions = instructions[1:]\n",
    "        if action == '-':\n",
    "            t.left(25)\n",
    "            instructions = instructions[1:]\n",
    "        if action == ']':\n",
    "            # Pop position\n",
    "            t.up()\n",
    "            t.setpos(splits[0][0])\n",
    "            t.setheading(splits[0][1])\n",
    "            t.down()\n",
    "            splits = splits[1:]\n",
    "            instructions = instructions[1:]"
   ]
  },
  {
   "cell_type": "code",
   "execution_count": null,
   "id": "6d177c1d-eac1-49b8-ac4c-1c2ec80fdf6e",
   "metadata": {},
   "outputs": [],
   "source": [
    "import turtle\n",
    "\n",
    "t = turtle.Turtle()\n",
    "t.speed('fastest')\n",
    "t.left(90)\n",
    "\n",
    "branching2(results3[6], 3)"
   ]
  },
  {
   "cell_type": "markdown",
   "id": "5c81cf14-3476-4535-923a-67b4b7bd92eb",
   "metadata": {},
   "source": [
    "---\n",
    "\n",
    "### Example 4: Sierpinski triangle (something different)"
   ]
  },
  {
   "cell_type": "markdown",
   "id": "fe78b6b9-76fe-4b86-a2e6-5b5c442699a0",
   "metadata": {},
   "source": [
    "The code beneath will write an L system with the following rules:\n",
    "\n",
    "| Parameters | Value |\n",
    "| --- | --- |\n",
    "| Variables | F, G |\n",
    "| Constants | +, - |\n",
    "| Axiom | F-G-G |\n",
    "| Rules | (F → F−G+F+G−F), (G → GG) |\n",
    "| Angle | 120° |\n",
    "\n",
    "Here, F means \"draw forward\", G means \"draw forward\", + means \"turn left by angle\", and − means \"turn right by angle\"."
   ]
  },
  {
   "cell_type": "code",
   "execution_count": 2,
   "id": "5126d8b8-e5f1-424e-b90d-494381747193",
   "metadata": {},
   "outputs": [
    {
     "data": {
      "text/plain": [
       "['F-G-G', 'F-G+F+G-F-GG-GG', 'F-G+F+G-F-GG+F-G+F+G-F+GG-F-G+F+G-F-GGGG-GGGG']"
      ]
     },
     "execution_count": 2,
     "metadata": {},
     "output_type": "execute_result"
    }
   ],
   "source": [
    "rules4 = {'F': 'F-G+F+G-F',\n",
    "          'G': 'GG'}\n",
    "axiom4 = 'F-G-G'\n",
    "\n",
    "results4 = create_L_system(axiom4, rules4, 6)\n",
    "results4[0:3]"
   ]
  },
  {
   "cell_type": "markdown",
   "id": "9cc366da-46dd-423f-9565-0258faff5283",
   "metadata": {},
   "source": [
    "### ``Execucion``"
   ]
  },
  {
   "cell_type": "code",
   "execution_count": 3,
   "id": "0da0f2d2-d83a-41cd-98fd-f54ce61ee676",
   "metadata": {},
   "outputs": [],
   "source": [
    "def branching3(instructions, size):\n",
    "    angle = 120\n",
    "    while instructions != '':\n",
    "        action = instructions[0]\n",
    "        if action == 'G':\n",
    "            t.forward(size)\n",
    "            instructions = instructions[1:]\n",
    "        if action == 'F':\n",
    "            t.forward(size)\n",
    "            instructions = instructions[1:]\n",
    "        if action == '+':\n",
    "            t.left(angle)\n",
    "            instructions = instructions[1:]\n",
    "        if action == '-':\n",
    "            t.right(angle)\n",
    "            instructions = instructions[1:]"
   ]
  },
  {
   "cell_type": "code",
   "execution_count": 4,
   "id": "153e8cae-b450-48bc-af5e-d3c7e8efd588",
   "metadata": {},
   "outputs": [],
   "source": [
    "import turtle\n",
    "\n",
    "t = turtle.Turtle()\n",
    "t.speed('fastest')\n",
    "t.left(90)\n",
    "\n",
    "branching3(results4[6], 5)"
   ]
  },
  {
   "cell_type": "markdown",
   "id": "6b1b765c-7620-4d91-bd2c-8665d85382f0",
   "metadata": {},
   "source": [
    "---\n",
    "\n",
    "### Summarizing L-systems"
   ]
  },
  {
   "cell_type": "markdown",
   "id": "bd05c95e-b786-4aa6-ab40-2807b6fdd930",
   "metadata": {},
   "source": [
    "So summarizing L-systems, the system itself needs to be defined by `variables`, `constants`, an `axiom`, the `rules` and sometimes ans a `angle`. These are shown in previouse tables.\n",
    "\n",
    "The system instructions can be created with:"
   ]
  },
  {
   "cell_type": "code",
   "execution_count": null,
   "id": "7a7490b9-9edd-4246-b35d-40bad9614ccf",
   "metadata": {},
   "outputs": [],
   "source": [
    "def create_L_system(axiom, rules, total_rounds):\n",
    "    results = [axiom]   # The result of round N can be printed with round[N]\n",
    "\n",
    "    for previous_round in range(total_rounds):\n",
    "        string = ''\n",
    "        for symbol in results[previous_round]:\n",
    "            try:\n",
    "                string += rules[symbol]   # Implement the rule if it exists\n",
    "            except:\n",
    "                string += symbol          # Else treat the symbol as a constant\n",
    "        results += [string]\n",
    "\n",
    "    return results"
   ]
  },
  {
   "cell_type": "markdown",
   "id": "ef232432-8a22-4756-ad9f-29a50cc9cc77",
   "metadata": {},
   "source": [
    "The system can be red by the following function, using the actions from the table below.\n",
    "\n",
    "| Character | Action |\n",
    "| --- | --- |\n",
    "| 0 | Draw forward |\n",
    "| 1 | Draw forward |\n",
    "| F | Draw forward |\n",
    "| G | Draw forward |\n",
    "| X | Ignore |\n",
    "| + | Turn left for $\\varkappa$ degrees |\n",
    "| - | Turn right for $\\varkappa$ degrees|\n",
    "| \\[ | Push position and angle |\n",
    "| \\] | Pop position and angle |\n",
    "\n",
    "This means that the \" \\[ \" from the first example should be written as \" \\[+ \", and \" \\] \" as \" \\]- \"  ."
   ]
  },
  {
   "cell_type": "code",
   "execution_count": 12,
   "id": "34cf64f5-0b0f-4bde-ab51-2f6b9c7deaec",
   "metadata": {},
   "outputs": [],
   "source": [
    "def branching(instructions, size, angle):\n",
    "    splits = []\n",
    "    while instructions != '':\n",
    "        action = instructions[0]   # The current action is the first of the instructions\n",
    "        \n",
    "        # Moving forward in multiple ways\n",
    "        if action == '0':\n",
    "            t.forward(size)\n",
    "        if action == '1':\n",
    "            t.forward(size)\n",
    "        if action == 'F':\n",
    "            t.forward(size)\n",
    "        if action == 'G':\n",
    "            t.forward(size)\n",
    "        \n",
    "        if action == 'X':\n",
    "            pass   # Does noting\n",
    "        \n",
    "        #Turns\n",
    "        if action == '+':\n",
    "            t.left(angle)\n",
    "        if action == '-':\n",
    "            t.right(angle)\n",
    "        \n",
    "        # Push and pop\n",
    "        if action == '[':                                # Push position\n",
    "            splits = [[t.pos(), t.heading()]] + splits\n",
    "        \n",
    "        if action == ']':                                # Pop position\n",
    "            t.up()\n",
    "            t.setpos(splits[0][0])\n",
    "            t.setheading(splits[0][1])\n",
    "            t.down()\n",
    "            splits = splits[1:]\n",
    "        \n",
    "        # Remove the current action from the instructions (it's done)\n",
    "        instructions = instructions[1:]"
   ]
  },
  {
   "cell_type": "markdown",
   "id": "5420d717-7624-4889-826a-0d907640a655",
   "metadata": {},
   "source": [
    "### ``Example``"
   ]
  },
  {
   "cell_type": "code",
   "execution_count": 8,
   "id": "453134b7-918e-454f-b4a2-c1fe8c3eda85",
   "metadata": {},
   "outputs": [
    {
     "ename": "KeyboardInterrupt",
     "evalue": "",
     "output_type": "error",
     "traceback": [
      "\u001b[1;31m---------------------------------------------------------------------------\u001b[0m",
      "\u001b[1;31mKeyboardInterrupt\u001b[0m                         Traceback (most recent call last)",
      "Cell \u001b[1;32mIn [8], line 7\u001b[0m\n\u001b[0;32m      4\u001b[0m t\u001b[38;5;241m.\u001b[39mspeed(\u001b[38;5;124m'\u001b[39m\u001b[38;5;124mfastest\u001b[39m\u001b[38;5;124m'\u001b[39m)\n\u001b[0;32m      5\u001b[0m t\u001b[38;5;241m.\u001b[39mleft(\u001b[38;5;241m90\u001b[39m)\n\u001b[1;32m----> 7\u001b[0m \u001b[43mbranching\u001b[49m\u001b[43m(\u001b[49m\u001b[43mresults4\u001b[49m\u001b[43m[\u001b[49m\u001b[38;5;241;43m6\u001b[39;49m\u001b[43m]\u001b[49m\u001b[43m,\u001b[49m\u001b[43m \u001b[49m\u001b[38;5;241;43m5\u001b[39;49m\u001b[43m,\u001b[49m\u001b[43m \u001b[49m\u001b[38;5;241;43m120\u001b[39;49m\u001b[43m)\u001b[49m\n",
      "Cell \u001b[1;32mIn [5], line 22\u001b[0m, in \u001b[0;36mbranching\u001b[1;34m(instructions, size, angle)\u001b[0m\n\u001b[0;32m     20\u001b[0m     t\u001b[38;5;241m.\u001b[39mleft(angle)\n\u001b[0;32m     21\u001b[0m \u001b[38;5;28;01mif\u001b[39;00m action \u001b[38;5;241m==\u001b[39m \u001b[38;5;124m'\u001b[39m\u001b[38;5;124m-\u001b[39m\u001b[38;5;124m'\u001b[39m:\n\u001b[1;32m---> 22\u001b[0m     \u001b[43mt\u001b[49m\u001b[38;5;241;43m.\u001b[39;49m\u001b[43mright\u001b[49m\u001b[43m(\u001b[49m\u001b[43mangle\u001b[49m\u001b[43m)\u001b[49m\n\u001b[0;32m     24\u001b[0m \u001b[38;5;66;03m# Push and pop\u001b[39;00m\n\u001b[0;32m     25\u001b[0m \u001b[38;5;28;01mif\u001b[39;00m action \u001b[38;5;241m==\u001b[39m \u001b[38;5;124m'\u001b[39m\u001b[38;5;124m[\u001b[39m\u001b[38;5;124m'\u001b[39m:                                \u001b[38;5;66;03m# Push position\u001b[39;00m\n",
      "File \u001b[1;32m~\\anaconda3\\lib\\turtle.py:1679\u001b[0m, in \u001b[0;36mTNavigator.right\u001b[1;34m(self, angle)\u001b[0m\n\u001b[0;32m   1660\u001b[0m \u001b[38;5;28;01mdef\u001b[39;00m \u001b[38;5;21mright\u001b[39m(\u001b[38;5;28mself\u001b[39m, angle):\n\u001b[0;32m   1661\u001b[0m     \u001b[38;5;124;03m\"\"\"Turn turtle right by angle units.\u001b[39;00m\n\u001b[0;32m   1662\u001b[0m \n\u001b[0;32m   1663\u001b[0m \u001b[38;5;124;03m    Aliases: right | rt\u001b[39;00m\n\u001b[1;32m   (...)\u001b[0m\n\u001b[0;32m   1677\u001b[0m \u001b[38;5;124;03m    337.0\u001b[39;00m\n\u001b[0;32m   1678\u001b[0m \u001b[38;5;124;03m    \"\"\"\u001b[39;00m\n\u001b[1;32m-> 1679\u001b[0m     \u001b[38;5;28;43mself\u001b[39;49m\u001b[38;5;241;43m.\u001b[39;49m\u001b[43m_rotate\u001b[49m\u001b[43m(\u001b[49m\u001b[38;5;241;43m-\u001b[39;49m\u001b[43mangle\u001b[49m\u001b[43m)\u001b[49m\n",
      "File \u001b[1;32m~\\anaconda3\\lib\\turtle.py:3279\u001b[0m, in \u001b[0;36mRawTurtle._rotate\u001b[1;34m(self, angle)\u001b[0m\n\u001b[0;32m   3277\u001b[0m         \u001b[38;5;28mself\u001b[39m\u001b[38;5;241m.\u001b[39m_update()\n\u001b[0;32m   3278\u001b[0m \u001b[38;5;28mself\u001b[39m\u001b[38;5;241m.\u001b[39m_orient \u001b[38;5;241m=\u001b[39m neworient\n\u001b[1;32m-> 3279\u001b[0m \u001b[38;5;28;43mself\u001b[39;49m\u001b[38;5;241;43m.\u001b[39;49m\u001b[43m_update\u001b[49m\u001b[43m(\u001b[49m\u001b[43m)\u001b[49m\n",
      "File \u001b[1;32m~\\anaconda3\\lib\\turtle.py:2664\u001b[0m, in \u001b[0;36mRawTurtle._update\u001b[1;34m(self)\u001b[0m\n\u001b[0;32m   2662\u001b[0m     \u001b[38;5;28mself\u001b[39m\u001b[38;5;241m.\u001b[39m_drawturtle()\n\u001b[0;32m   2663\u001b[0m     screen\u001b[38;5;241m.\u001b[39m_update()                  \u001b[38;5;66;03m# TurtleScreenBase\u001b[39;00m\n\u001b[1;32m-> 2664\u001b[0m     \u001b[43mscreen\u001b[49m\u001b[38;5;241;43m.\u001b[39;49m\u001b[43m_delay\u001b[49m\u001b[43m(\u001b[49m\u001b[43mscreen\u001b[49m\u001b[38;5;241;43m.\u001b[39;49m\u001b[43m_delayvalue\u001b[49m\u001b[43m)\u001b[49m \u001b[38;5;66;03m# TurtleScreenBase\u001b[39;00m\n\u001b[0;32m   2665\u001b[0m \u001b[38;5;28;01melse\u001b[39;00m:\n\u001b[0;32m   2666\u001b[0m     \u001b[38;5;28mself\u001b[39m\u001b[38;5;241m.\u001b[39m_update_data()\n",
      "File \u001b[1;32m~\\anaconda3\\lib\\turtle.py:565\u001b[0m, in \u001b[0;36mTurtleScreenBase._delay\u001b[1;34m(self, delay)\u001b[0m\n\u001b[0;32m    563\u001b[0m \u001b[38;5;28;01mdef\u001b[39;00m \u001b[38;5;21m_delay\u001b[39m(\u001b[38;5;28mself\u001b[39m, delay):\n\u001b[0;32m    564\u001b[0m     \u001b[38;5;124;03m\"\"\"Delay subsequent canvas actions for delay ms.\"\"\"\u001b[39;00m\n\u001b[1;32m--> 565\u001b[0m     \u001b[38;5;28;43mself\u001b[39;49m\u001b[38;5;241;43m.\u001b[39;49m\u001b[43mcv\u001b[49m\u001b[38;5;241;43m.\u001b[39;49m\u001b[43mafter\u001b[49m\u001b[43m(\u001b[49m\u001b[43mdelay\u001b[49m\u001b[43m)\u001b[49m\n",
      "File \u001b[1;32m~\\anaconda3\\lib\\tkinter\\__init__.py:809\u001b[0m, in \u001b[0;36mMisc.after\u001b[1;34m(self, ms, func, *args)\u001b[0m\n\u001b[0;32m    801\u001b[0m \u001b[38;5;124;03m\"\"\"Call function once after given time.\u001b[39;00m\n\u001b[0;32m    802\u001b[0m \n\u001b[0;32m    803\u001b[0m \u001b[38;5;124;03mMS specifies the time in milliseconds. FUNC gives the\u001b[39;00m\n\u001b[0;32m    804\u001b[0m \u001b[38;5;124;03mfunction which shall be called. Additional parameters\u001b[39;00m\n\u001b[0;32m    805\u001b[0m \u001b[38;5;124;03mare given as parameters to the function call.  Return\u001b[39;00m\n\u001b[0;32m    806\u001b[0m \u001b[38;5;124;03midentifier to cancel scheduling with after_cancel.\"\"\"\u001b[39;00m\n\u001b[0;32m    807\u001b[0m \u001b[38;5;28;01mif\u001b[39;00m \u001b[38;5;129;01mnot\u001b[39;00m func:\n\u001b[0;32m    808\u001b[0m     \u001b[38;5;66;03m# I'd rather use time.sleep(ms*0.001)\u001b[39;00m\n\u001b[1;32m--> 809\u001b[0m     \u001b[38;5;28;43mself\u001b[39;49m\u001b[38;5;241;43m.\u001b[39;49m\u001b[43mtk\u001b[49m\u001b[38;5;241;43m.\u001b[39;49m\u001b[43mcall\u001b[49m\u001b[43m(\u001b[49m\u001b[38;5;124;43m'\u001b[39;49m\u001b[38;5;124;43mafter\u001b[39;49m\u001b[38;5;124;43m'\u001b[39;49m\u001b[43m,\u001b[49m\u001b[43m \u001b[49m\u001b[43mms\u001b[49m\u001b[43m)\u001b[49m\n\u001b[0;32m    810\u001b[0m     \u001b[38;5;28;01mreturn\u001b[39;00m \u001b[38;5;28;01mNone\u001b[39;00m\n\u001b[0;32m    811\u001b[0m \u001b[38;5;28;01melse\u001b[39;00m:\n",
      "\u001b[1;31mKeyboardInterrupt\u001b[0m: "
     ]
    }
   ],
   "source": [
    "# Sierpinski triangle\n",
    "import turtle\n",
    "\n",
    "t = turtle.Turtle()\n",
    "t.speed('fastest')\n",
    "t.left(90)\n",
    "\n",
    "branching(results4[6], 5, 120)"
   ]
  },
  {
   "cell_type": "code",
   "execution_count": 13,
   "id": "b9252011-5401-4977-ba36-487027399361",
   "metadata": {},
   "outputs": [
    {
     "ename": "KeyboardInterrupt",
     "evalue": "",
     "output_type": "error",
     "traceback": [
      "\u001b[1;31m---------------------------------------------------------------------------\u001b[0m",
      "\u001b[1;31mKeyboardInterrupt\u001b[0m                         Traceback (most recent call last)",
      "Cell \u001b[1;32mIn [13], line 7\u001b[0m\n\u001b[0;32m      4\u001b[0m t\u001b[38;5;241m.\u001b[39mspeed(\u001b[38;5;124m'\u001b[39m\u001b[38;5;124mfastest\u001b[39m\u001b[38;5;124m'\u001b[39m)\n\u001b[0;32m      5\u001b[0m t\u001b[38;5;241m.\u001b[39mleft(\u001b[38;5;241m90\u001b[39m)\n\u001b[1;32m----> 7\u001b[0m \u001b[43mbranching\u001b[49m\u001b[43m(\u001b[49m\u001b[43mresults3\u001b[49m\u001b[43m[\u001b[49m\u001b[38;5;241;43m6\u001b[39;49m\u001b[43m]\u001b[49m\u001b[43m,\u001b[49m\u001b[43m \u001b[49m\u001b[38;5;241;43m3\u001b[39;49m\u001b[43m,\u001b[49m\u001b[43m \u001b[49m\u001b[38;5;241;43m25\u001b[39;49m\u001b[43m)\u001b[49m\n",
      "Cell \u001b[1;32mIn [12], line 30\u001b[0m, in \u001b[0;36mbranching\u001b[1;34m(instructions, size, angle)\u001b[0m\n\u001b[0;32m     27\u001b[0m     splits \u001b[38;5;241m=\u001b[39m [[t\u001b[38;5;241m.\u001b[39mpos(), t\u001b[38;5;241m.\u001b[39mheading()]] \u001b[38;5;241m+\u001b[39m splits\n\u001b[0;32m     29\u001b[0m \u001b[38;5;28;01mif\u001b[39;00m action \u001b[38;5;241m==\u001b[39m \u001b[38;5;124m'\u001b[39m\u001b[38;5;124m]\u001b[39m\u001b[38;5;124m'\u001b[39m:                                \u001b[38;5;66;03m# Pop position\u001b[39;00m\n\u001b[1;32m---> 30\u001b[0m     \u001b[43mt\u001b[49m\u001b[38;5;241;43m.\u001b[39;49m\u001b[43mup\u001b[49m\u001b[43m(\u001b[49m\u001b[43m)\u001b[49m\n\u001b[0;32m     31\u001b[0m     t\u001b[38;5;241m.\u001b[39msetpos(splits[\u001b[38;5;241m0\u001b[39m][\u001b[38;5;241m0\u001b[39m])\n\u001b[0;32m     32\u001b[0m     t\u001b[38;5;241m.\u001b[39msetheading(splits[\u001b[38;5;241m0\u001b[39m][\u001b[38;5;241m1\u001b[39m])\n",
      "File \u001b[1;32m~\\anaconda3\\lib\\turtle.py:2108\u001b[0m, in \u001b[0;36mTPen.penup\u001b[1;34m(self)\u001b[0m\n\u001b[0;32m   2106\u001b[0m \u001b[38;5;28;01mif\u001b[39;00m \u001b[38;5;129;01mnot\u001b[39;00m \u001b[38;5;28mself\u001b[39m\u001b[38;5;241m.\u001b[39m_drawing:\n\u001b[0;32m   2107\u001b[0m     \u001b[38;5;28;01mreturn\u001b[39;00m\n\u001b[1;32m-> 2108\u001b[0m \u001b[38;5;28;43mself\u001b[39;49m\u001b[38;5;241;43m.\u001b[39;49m\u001b[43mpen\u001b[49m\u001b[43m(\u001b[49m\u001b[43mpendown\u001b[49m\u001b[38;5;241;43m=\u001b[39;49m\u001b[38;5;28;43;01mFalse\u001b[39;49;00m\u001b[43m)\u001b[49m\n",
      "File \u001b[1;32m~\\anaconda3\\lib\\turtle.py:2460\u001b[0m, in \u001b[0;36mTPen.pen\u001b[1;34m(self, pen, **pendict)\u001b[0m\n\u001b[0;32m   2457\u001b[0m     sa, ca \u001b[38;5;241m=\u001b[39m math\u001b[38;5;241m.\u001b[39msin(\u001b[38;5;28mself\u001b[39m\u001b[38;5;241m.\u001b[39m_tilt), math\u001b[38;5;241m.\u001b[39mcos(\u001b[38;5;28mself\u001b[39m\u001b[38;5;241m.\u001b[39m_tilt)\n\u001b[0;32m   2458\u001b[0m     \u001b[38;5;28mself\u001b[39m\u001b[38;5;241m.\u001b[39m_shapetrafo \u001b[38;5;241m=\u001b[39m ( scx\u001b[38;5;241m*\u001b[39mca, scy\u001b[38;5;241m*\u001b[39m(shf\u001b[38;5;241m*\u001b[39mca \u001b[38;5;241m+\u001b[39m sa),\n\u001b[0;32m   2459\u001b[0m                         \u001b[38;5;241m-\u001b[39mscx\u001b[38;5;241m*\u001b[39msa, scy\u001b[38;5;241m*\u001b[39m(ca \u001b[38;5;241m-\u001b[39m shf\u001b[38;5;241m*\u001b[39msa))\n\u001b[1;32m-> 2460\u001b[0m \u001b[38;5;28;43mself\u001b[39;49m\u001b[38;5;241;43m.\u001b[39;49m\u001b[43m_update\u001b[49m\u001b[43m(\u001b[49m\u001b[43m)\u001b[49m\n",
      "File \u001b[1;32m~\\anaconda3\\lib\\turtle.py:2663\u001b[0m, in \u001b[0;36mRawTurtle._update\u001b[1;34m(self)\u001b[0m\n\u001b[0;32m   2661\u001b[0m     \u001b[38;5;28mself\u001b[39m\u001b[38;5;241m.\u001b[39m_update_data()\n\u001b[0;32m   2662\u001b[0m     \u001b[38;5;28mself\u001b[39m\u001b[38;5;241m.\u001b[39m_drawturtle()\n\u001b[1;32m-> 2663\u001b[0m     \u001b[43mscreen\u001b[49m\u001b[38;5;241;43m.\u001b[39;49m\u001b[43m_update\u001b[49m\u001b[43m(\u001b[49m\u001b[43m)\u001b[49m                  \u001b[38;5;66;03m# TurtleScreenBase\u001b[39;00m\n\u001b[0;32m   2664\u001b[0m     screen\u001b[38;5;241m.\u001b[39m_delay(screen\u001b[38;5;241m.\u001b[39m_delayvalue) \u001b[38;5;66;03m# TurtleScreenBase\u001b[39;00m\n\u001b[0;32m   2665\u001b[0m \u001b[38;5;28;01melse\u001b[39;00m:\n",
      "File \u001b[1;32m~\\anaconda3\\lib\\turtle.py:561\u001b[0m, in \u001b[0;36mTurtleScreenBase._update\u001b[1;34m(self)\u001b[0m\n\u001b[0;32m    558\u001b[0m \u001b[38;5;28;01mdef\u001b[39;00m \u001b[38;5;21m_update\u001b[39m(\u001b[38;5;28mself\u001b[39m):\n\u001b[0;32m    559\u001b[0m     \u001b[38;5;124;03m\"\"\"Redraw graphics items on canvas\u001b[39;00m\n\u001b[0;32m    560\u001b[0m \u001b[38;5;124;03m    \"\"\"\u001b[39;00m\n\u001b[1;32m--> 561\u001b[0m     \u001b[38;5;28;43mself\u001b[39;49m\u001b[38;5;241;43m.\u001b[39;49m\u001b[43mcv\u001b[49m\u001b[38;5;241;43m.\u001b[39;49m\u001b[43mupdate\u001b[49m\u001b[43m(\u001b[49m\u001b[43m)\u001b[49m\n",
      "File \u001b[1;32m~\\anaconda3\\lib\\tkinter\\__init__.py:1314\u001b[0m, in \u001b[0;36mMisc.update\u001b[1;34m(self)\u001b[0m\n\u001b[0;32m   1312\u001b[0m \u001b[38;5;28;01mdef\u001b[39;00m \u001b[38;5;21mupdate\u001b[39m(\u001b[38;5;28mself\u001b[39m):\n\u001b[0;32m   1313\u001b[0m     \u001b[38;5;124;03m\"\"\"Enter event loop until all pending events have been processed by Tcl.\"\"\"\u001b[39;00m\n\u001b[1;32m-> 1314\u001b[0m     \u001b[38;5;28;43mself\u001b[39;49m\u001b[38;5;241;43m.\u001b[39;49m\u001b[43mtk\u001b[49m\u001b[38;5;241;43m.\u001b[39;49m\u001b[43mcall\u001b[49m\u001b[43m(\u001b[49m\u001b[38;5;124;43m'\u001b[39;49m\u001b[38;5;124;43mupdate\u001b[39;49m\u001b[38;5;124;43m'\u001b[39;49m\u001b[43m)\u001b[49m\n",
      "\u001b[1;31mKeyboardInterrupt\u001b[0m: "
     ]
    }
   ],
   "source": [
    "# Fractal plant\n",
    "import turtle\n",
    "\n",
    "t = turtle.Turtle()\n",
    "t.speed('fastest')\n",
    "t.left(90)\n",
    "\n",
    "branching(results3[6], 3, 25)"
   ]
  },
  {
   "cell_type": "code",
   "execution_count": 17,
   "id": "3882526a-9180-45d2-b432-dab8c810ddd7",
   "metadata": {},
   "outputs": [
    {
     "data": {
      "text/plain": [
       "['0',\n",
       " '1[+0]-0',\n",
       " '11[+1[+0]-0]-1[+0]-0',\n",
       " '1111[+11[+1[+0]-0]-1[+0]-0]-11[+1[+0]-0]-1[+0]-0']"
      ]
     },
     "execution_count": 17,
     "metadata": {},
     "output_type": "execute_result"
    }
   ],
   "source": [
    "# Create new Fractal binary tree rules ([ → [+ & ] → ]-)\n",
    "rules5 = {'0': '1[+0]-0',\n",
    "          '1': '11'}\n",
    "axiom5 = \"0\"\n",
    "\n",
    "results5 = create_L_system(axiom5, rules5, 3)\n",
    "results5"
   ]
  },
  {
   "cell_type": "code",
   "execution_count": 16,
   "id": "01653433-6422-4a74-b3c8-183d6ac2b784",
   "metadata": {},
   "outputs": [],
   "source": [
    "#Fractal binary tree\n",
    "import turtle\n",
    "\n",
    "t = turtle.Turtle()\n",
    "t.speed('fastest')\n",
    "t.left(90)\n",
    "\n",
    "branching(results5[2], 50, 45)"
   ]
  },
  {
   "cell_type": "markdown",
   "id": "415f4336-cda2-4b90-ba1b-5664647c6837",
   "metadata": {},
   "source": [
    "---\n",
    "\n",
    "## Creating classes and methods"
   ]
  },
  {
   "cell_type": "code",
   "execution_count": null,
   "id": "13252679-f224-4138-9c1e-731d193dddd0",
   "metadata": {},
   "outputs": [],
   "source": []
  }
 ],
 "metadata": {
  "kernelspec": {
   "display_name": "Python 3 (ipykernel)",
   "language": "python",
   "name": "python3"
  },
  "language_info": {
   "codemirror_mode": {
    "name": "ipython",
    "version": 3
   },
   "file_extension": ".py",
   "mimetype": "text/x-python",
   "name": "python",
   "nbconvert_exporter": "python",
   "pygments_lexer": "ipython3",
   "version": "3.9.7"
  }
 },
 "nbformat": 4,
 "nbformat_minor": 5
}
